{
  "nbformat": 4,
  "nbformat_minor": 0,
  "metadata": {
    "colab": {
      "name": "ClasificacionCNN-MNIST.ipynb",
      "provenance": []
    },
    "kernelspec": {
      "name": "python3",
      "display_name": "Python 3"
    }
  },
  "cells": [
    {
      "cell_type": "code",
      "metadata": {
        "id": "3uV-jDLE-i9I",
        "colab_type": "code",
        "colab": {}
      },
      "source": [
        ""
      ],
      "execution_count": null,
      "outputs": []
    },
    {
      "cell_type": "markdown",
      "metadata": {
        "id": "KsDtIQ53GRMa",
        "colab_type": "text"
      },
      "source": [
        "# Proyecto de clasificación utilizando CNN - MNIST"
      ]
    },
    {
      "cell_type": "markdown",
      "metadata": {
        "id": "jLmTGwhUGdeN",
        "colab_type": "text"
      },
      "source": [
        "### Datos del proyecto"
      ]
    },
    {
      "cell_type": "markdown",
      "metadata": {
        "id": "VHnPe4pjG4lC",
        "colab_type": "text"
      },
      "source": [
        "Dataset: MNIST, a través de Keras\n",
        "\n",
        "Descripción del dataset: 60000 imágenes en blanco y negro de números manuscritos\n",
        "\n",
        "Objetivo: utilizar redes neuronales convolucionales para lograr clasificar imágenes de números manuscritos\n",
        "\n",
        "Tipo de problema: clasificación multiclase"
      ]
    },
    {
      "cell_type": "code",
      "metadata": {
        "id": "DAuArO8pG22E",
        "colab_type": "code",
        "colab": {
          "base_uri": "https://localhost:8080/",
          "height": 70
        },
        "outputId": "c0188842-8f89-4498-dbb4-cfd2721ec0d5"
      },
      "source": [
        "# Importar librerías\n",
        "import numpy as np\n",
        "import pandas as pd\n",
        "import matplotlib.pyplot as plt\n",
        "import seaborn as sns"
      ],
      "execution_count": 2,
      "outputs": [
        {
          "output_type": "stream",
          "text": [
            "/usr/local/lib/python3.6/dist-packages/statsmodels/tools/_testing.py:19: FutureWarning: pandas.util.testing is deprecated. Use the functions in the public API at pandas.testing instead.\n",
            "  import pandas.util.testing as tm\n"
          ],
          "name": "stderr"
        }
      ]
    },
    {
      "cell_type": "code",
      "metadata": {
        "id": "CSxN_EHPHGik",
        "colab_type": "code",
        "colab": {}
      },
      "source": [
        "# Importar dataset\n",
        "from tensorflow.keras.datasets import mnist"
      ],
      "execution_count": 4,
      "outputs": []
    },
    {
      "cell_type": "code",
      "metadata": {
        "id": "sCQqXVjmHUvs",
        "colab_type": "code",
        "colab": {}
      },
      "source": [
        "(X_train, y_train), (X_test, y_test) = mnist.load_data()"
      ],
      "execution_count": 6,
      "outputs": []
    },
    {
      "cell_type": "code",
      "metadata": {
        "id": "gh83U7RkHj-8",
        "colab_type": "code",
        "colab": {
          "base_uri": "https://localhost:8080/",
          "height": 34
        },
        "outputId": "1a8135dc-c8bd-4e45-9b15-b70924d56f4b"
      },
      "source": [
        "X_train.shape"
      ],
      "execution_count": 7,
      "outputs": [
        {
          "output_type": "execute_result",
          "data": {
            "text/plain": [
              "(60000, 28, 28)"
            ]
          },
          "metadata": {
            "tags": []
          },
          "execution_count": 7
        }
      ]
    },
    {
      "cell_type": "code",
      "metadata": {
        "id": "ENatHQa-IFBY",
        "colab_type": "code",
        "colab": {
          "base_uri": "https://localhost:8080/",
          "height": 282
        },
        "outputId": "872b3969-ff5d-4295-bfc9-7299bfd76e24"
      },
      "source": [
        "plt.imshow(X_train[61], cmap=\"binary\")"
      ],
      "execution_count": 10,
      "outputs": [
        {
          "output_type": "execute_result",
          "data": {
            "text/plain": [
              "<matplotlib.image.AxesImage at 0x7f5789940f60>"
            ]
          },
          "metadata": {
            "tags": []
          },
          "execution_count": 10
        },
        {
          "output_type": "display_data",
          "data": {
            "image/png": "[encoded data removed]",
            "text/plain": [
              "<Figure size 432x288 with 1 Axes>"
            ]
          },
          "metadata": {
            "tags": [],
            "needs_background": "light"
          }
        }
      ]
    },
    {
      "cell_type": "code",
      "metadata": {
        "id": "3j16NNpWINuI",
        "colab_type": "code",
        "colab": {
          "base_uri": "https://localhost:8080/",
          "height": 34
        },
        "outputId": "53840bea-7d4f-48b6-906e-1418adc45cdf"
      },
      "source": [
        "# etiqueta correspondiente\n",
        "y_train[61]"
      ],
      "execution_count": 11,
      "outputs": [
        {
          "output_type": "execute_result",
          "data": {
            "text/plain": [
              "4"
            ]
          },
          "metadata": {
            "tags": []
          },
          "execution_count": 11
        }
      ]
    },
    {
      "cell_type": "code",
      "metadata": {
        "id": "FM2EJENWIfNO",
        "colab_type": "code",
        "colab": {}
      },
      "source": [
        "from tensorflow.keras.utils import to_categorical"
      ],
      "execution_count": 12,
      "outputs": []
    },
    {
      "cell_type": "code",
      "metadata": {
        "id": "1BOwXAlQIpmu",
        "colab_type": "code",
        "colab": {}
      },
      "source": [
        "#encodear la etiqueta en columnas binarias\n",
        "y_train_encodeado = to_categorical(y_train, num_classes = 10)"
      ],
      "execution_count": 18,
      "outputs": []
    },
    {
      "cell_type": "code",
      "metadata": {
        "id": "J1okYgTGI3OR",
        "colab_type": "code",
        "colab": {}
      },
      "source": [
        "y_test_encodeado = to_categorical(y_test, num_classes = 10)"
      ],
      "execution_count": 19,
      "outputs": []
    },
    {
      "cell_type": "code",
      "metadata": {
        "id": "Vfzk-NUiI4yY",
        "colab_type": "code",
        "colab": {
          "base_uri": "https://localhost:8080/",
          "height": 84
        },
        "outputId": "6d058ebe-6704-415e-f9ca-207cf8660d70"
      },
      "source": [
        "print(X_train.max())\n",
        "print(\"\\n\")\n",
        "print(X_train.min())"
      ],
      "execution_count": 20,
      "outputs": [
        {
          "output_type": "stream",
          "text": [
            "255\n",
            "\n",
            "\n",
            "0\n"
          ],
          "name": "stdout"
        }
      ]
    },
    {
      "cell_type": "code",
      "metadata": {
        "id": "XPlIvPVCJu7O",
        "colab_type": "code",
        "colab": {}
      },
      "source": [
        "# Dado que sabemos que el máximo va a ser 255 y el mínimo 0, podemos normalizar los X dividiento / 255\n",
        "X_train = X_train/255\n",
        "X_test = X_test/255"
      ],
      "execution_count": 22,
      "outputs": []
    },
    {
      "cell_type": "code",
      "metadata": {
        "id": "3JfPnDYoJ5rR",
        "colab_type": "code",
        "colab": {}
      },
      "source": [
        "# batch size, ancho, largo, colores\n",
        "X_train = X_train.reshape(60000, 28, 28, 1)"
      ],
      "execution_count": 24,
      "outputs": []
    },
    {
      "cell_type": "code",
      "metadata": {
        "id": "CIB8fbCrJ_-I",
        "colab_type": "code",
        "colab": {
          "base_uri": "https://localhost:8080/",
          "height": 34
        },
        "outputId": "5739644e-9c14-48e5-db26-cfdfa686a152"
      },
      "source": [
        "X_test.shape"
      ],
      "execution_count": 25,
      "outputs": [
        {
          "output_type": "execute_result",
          "data": {
            "text/plain": [
              "(10000, 28, 28)"
            ]
          },
          "metadata": {
            "tags": []
          },
          "execution_count": 25
        }
      ]
    },
    {
      "cell_type": "code",
      "metadata": {
        "id": "LA8Ojy2-KcgC",
        "colab_type": "code",
        "colab": {}
      },
      "source": [
        "X_test = X_test.reshape(10000, 28, 28, 1)"
      ],
      "execution_count": 26,
      "outputs": []
    },
    {
      "cell_type": "code",
      "metadata": {
        "id": "wqaA00fxKjST",
        "colab_type": "code",
        "colab": {}
      },
      "source": [
        "from tensorflow.keras.models import Sequential"
      ],
      "execution_count": 27,
      "outputs": []
    },
    {
      "cell_type": "code",
      "metadata": {
        "id": "M9-0_Wh1LEp1",
        "colab_type": "code",
        "colab": {}
      },
      "source": [
        "from tensorflow.keras.layers import Dense, Conv2D, MaxPool2D, Flatten"
      ],
      "execution_count": 28,
      "outputs": []
    },
    {
      "cell_type": "code",
      "metadata": {
        "id": "gfTMeoQRLNHg",
        "colab_type": "code",
        "colab": {}
      },
      "source": [
        "modelo = Sequential()\n",
        "\n",
        "modelo.add(Conv2D(filters=64, kernel_size=(4,4), input_shape=(28,28,1), activation=\"relu\"))\n",
        "modelo.add(MaxPool2D(pool_size=(2,2)))\n",
        "\n",
        "modelo.add(Flatten())\n",
        "\n",
        "modelo.add(Dense(128, activation=\"relu\"))\n",
        "\n",
        "# OUTPUT\n",
        "\n",
        "modelo.add(Dense(10, activation=\"softmax\"))\n",
        "\n",
        "modelo.compile(loss=\"categorical_crossentropy\", optimizer=\"adam\")"
      ],
      "execution_count": 34,
      "outputs": []
    },
    {
      "cell_type": "code",
      "metadata": {
        "id": "fWR6QAx3M32A",
        "colab_type": "code",
        "colab": {}
      },
      "source": [
        "from tensorflow.keras.callbacks import EarlyStopping"
      ],
      "execution_count": 35,
      "outputs": []
    },
    {
      "cell_type": "code",
      "metadata": {
        "id": "3EiPL4r3NMTR",
        "colab_type": "code",
        "colab": {}
      },
      "source": [
        "early_stop = EarlyStopping(monitor=\"val_loss\", patience=2)"
      ],
      "execution_count": 36,
      "outputs": []
    },
    {
      "cell_type": "code",
      "metadata": {
        "id": "vlbeQJ8VNZOp",
        "colab_type": "code",
        "colab": {
          "base_uri": "https://localhost:8080/",
          "height": 202
        },
        "outputId": "15d4fa74-119b-4a4e-c018-876e058f7c6d"
      },
      "source": [
        "modelo.fit(X_train, y_train_encodeado, epochs=25, validation_data=(X_test, y_test_encodeado), callbacks=early_stop)"
      ],
      "execution_count": 37,
      "outputs": [
        {
          "output_type": "stream",
          "text": [
            "Epoch 1/25\n",
            "1875/1875 [==============================] - 49s 26ms/step - loss: 0.1304 - val_loss: 0.0631\n",
            "Epoch 2/25\n",
            "1875/1875 [==============================] - 48s 26ms/step - loss: 0.0447 - val_loss: 0.0426\n",
            "Epoch 3/25\n",
            "1875/1875 [==============================] - 47s 25ms/step - loss: 0.0272 - val_loss: 0.0348\n",
            "Epoch 4/25\n",
            "1875/1875 [==============================] - 48s 25ms/step - loss: 0.0186 - val_loss: 0.0419\n",
            "Epoch 5/25\n",
            "1875/1875 [==============================] - 47s 25ms/step - loss: 0.0131 - val_loss: 0.0418\n"
          ],
          "name": "stdout"
        },
        {
          "output_type": "execute_result",
          "data": {
            "text/plain": [
              "<tensorflow.python.keras.callbacks.History at 0x7f5783073048>"
            ]
          },
          "metadata": {
            "tags": []
          },
          "execution_count": 37
        }
      ]
    },
    {
      "cell_type": "code",
      "metadata": {
        "id": "PP2putkrNtGd",
        "colab_type": "code",
        "colab": {}
      },
      "source": [
        "losses = pd.DataFrame(modelo.history.history)"
      ],
      "execution_count": 38,
      "outputs": []
    },
    {
      "cell_type": "code",
      "metadata": {
        "id": "Ww7lft3YO7ND",
        "colab_type": "code",
        "colab": {
          "base_uri": "https://localhost:8080/",
          "height": 282
        },
        "outputId": "32938967-886a-47a9-98a3-9b25b6a16334"
      },
      "source": [
        "losses.plot()"
      ],
      "execution_count": 39,
      "outputs": [
        {
          "output_type": "execute_result",
          "data": {
            "text/plain": [
              "<matplotlib.axes._subplots.AxesSubplot at 0x7f57801ef3c8>"
            ]
          },
          "metadata": {
            "tags": []
          },
          "execution_count": 39
        },
        {
          "output_type": "display_data",
          "data": {
            "image/png": "[encoded data removed]",
            "text/plain": [
              "<Figure size 432x288 with 1 Axes>"
            ]
          },
          "metadata": {
            "tags": [],
            "needs_background": "light"
          }
        }
      ]
    },
    {
      "cell_type": "code",
      "metadata": {
        "id": "AP4BvcIgO_fz",
        "colab_type": "code",
        "colab": {}
      },
      "source": [
        "from sklearn.metrics import classification_report, confusion_matrix"
      ],
      "execution_count": 40,
      "outputs": []
    },
    {
      "cell_type": "code",
      "metadata": {
        "id": "wcxiPP_kPPbp",
        "colab_type": "code",
        "colab": {
          "base_uri": "https://localhost:8080/",
          "height": 87
        },
        "outputId": "84e6115b-dfd2-4732-d956-540511e9c276"
      },
      "source": [
        "predictions = modelo.predict_classes(X_test)"
      ],
      "execution_count": 41,
      "outputs": [
        {
          "output_type": "stream",
          "text": [
            "WARNING:tensorflow:From <ipython-input-41-8e4c4d950d7a>:1: Sequential.predict_classes (from tensorflow.python.keras.engine.sequential) is deprecated and will be removed after 2021-01-01.\n",
            "Instructions for updating:\n",
            "Please use instead:* `np.argmax(model.predict(x), axis=-1)`,   if your model does multi-class classification   (e.g. if it uses a `softmax` last-layer activation).* `(model.predict(x) > 0.5).astype(\"int32\")`,   if your model does binary classification   (e.g. if it uses a `sigmoid` last-layer activation).\n"
          ],
          "name": "stdout"
        }
      ]
    },
    {
      "cell_type": "code",
      "metadata": {
        "id": "x_tJIcKQPUJn",
        "colab_type": "code",
        "colab": {
          "base_uri": "https://localhost:8080/",
          "height": 302
        },
        "outputId": "1c934e0f-ff35-4449-e8ef-0fdf6bb2013e"
      },
      "source": [
        "print(classification_report(y_test, predictions))"
      ],
      "execution_count": 42,
      "outputs": [
        {
          "output_type": "stream",
          "text": [
            "              precision    recall  f1-score   support\n",
            "\n",
            "           0       0.98      1.00      0.99       980\n",
            "           1       0.99      0.99      0.99      1135\n",
            "           2       0.99      0.99      0.99      1032\n",
            "           3       0.99      0.99      0.99      1010\n",
            "           4       0.99      0.99      0.99       982\n",
            "           5       0.99      0.97      0.98       892\n",
            "           6       0.99      0.98      0.99       958\n",
            "           7       0.99      0.99      0.99      1028\n",
            "           8       0.99      0.99      0.99       974\n",
            "           9       0.98      0.98      0.98      1009\n",
            "\n",
            "    accuracy                           0.99     10000\n",
            "   macro avg       0.99      0.99      0.99     10000\n",
            "weighted avg       0.99      0.99      0.99     10000\n",
            "\n"
          ],
          "name": "stdout"
        }
      ]
    },
    {
      "cell_type": "code",
      "metadata": {
        "id": "H64xVsvzPcJb",
        "colab_type": "code",
        "colab": {
          "base_uri": "https://localhost:8080/",
          "height": 391
        },
        "outputId": "b38ea91c-e427-47cf-c910-bc53a7e5c2b5"
      },
      "source": [
        "matriz = confusion_matrix(y_test,predictions)\n",
        "plt.figure(figsize=(12,6))\n",
        "sns.heatmap(matriz,cmap=\"viridis\")"
      ],
      "execution_count": 45,
      "outputs": [
        {
          "output_type": "execute_result",
          "data": {
            "text/plain": [
              "<matplotlib.axes._subplots.AxesSubplot at 0x7f577f2e02e8>"
            ]
          },
          "metadata": {
            "tags": []
          },
          "execution_count": 45
        },
        {
          "output_type": "display_data",
          "data": {
            "image/png": "[encoded data removed]",
            "text/plain": [
              "<Figure size 864x432 with 2 Axes>"
            ]
          },
          "metadata": {
            "tags": [],
            "needs_background": "light"
          }
        }
      ]
    }
  ]
}